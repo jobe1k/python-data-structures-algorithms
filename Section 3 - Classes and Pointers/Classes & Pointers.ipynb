{
 "cells": [
  {
   "cell_type": "markdown",
   "id": "88664c4d",
   "metadata": {},
   "source": [
    "<span style=\"font-size: 44px; color: red; font-weight: bold;\">14 - Classes</span>"
   ]
  },
  {
   "cell_type": "markdown",
   "id": "f0f77ab9",
   "metadata": {},
   "source": [
    "Here is an example of the `Cookie` class based on your explanation.  \n",
    "A class is like a template for making objects (cookies) that share the same structure and behavior.\n",
    "\n",
    "```python\n",
    "class Cookie:\n",
    "    def __init__(self, color):\n",
    "        self.color = color\n",
    "\n",
    "    def get_color(self):\n",
    "        return self.color\n",
    "\n",
    "    def set_color(self, color):\n",
    "        self.color = color\n",
    "\n",
    "# Creating instances (objects) of the class\n",
    "cookie_one = Cookie(\"red\")    # Creates a Cookie with color \"red\"\n",
    "cookie_two = Cookie(\"blue\")   # Creates a Cookie with color \"blue\"\n",
    "\n",
    "print(cookie_one.color)       # Prints \"red\"\n",
    "print(cookie_two.color)       # Prints \"blue\"\n",
    "\n",
    "cookie_one.set_color('green') # Changes cookie_one's color to \"green\"\n",
    "print(cookie_one.color)       # Prints \"green\"\n",
    "print(cookie_two.color)       # Still prints \"blue\"\n",
    "```\n",
    "\n",
    "**Summary:**  \n",
    "- The class lets you create many cookies, each with its own color.\n",
    "- You can get or change the color using methods.\n",
    "- Each object made from the class is called an **instance**."
   ]
  },
  {
   "cell_type": "markdown",
   "id": "b51be22c",
   "metadata": {},
   "source": [
    "<span style=\"font-size: 44px; color: red; font-weight: bold;\">15 - Pointers</span>"
   ]
  },
  {
   "cell_type": "code",
   "execution_count": null,
   "id": "d75ef999",
   "metadata": {},
   "outputs": [],
   "source": [
    "dict1 = {'value': 11}\n",
    "dict2 = dict1"
   ]
  },
  {
   "cell_type": "markdown",
   "id": "8409ca6f",
   "metadata": {},
   "source": [
    "In Python, variables actually **reference** objects in memory. This is similar to pointers in other languages, but Python handles it automatically.\n",
    "\n",
    "### Example 1: Immutable Objects (Integers)\n",
    "\n",
    "```python\n",
    "num1 = 11\n",
    "num2 = num1\n",
    "\n",
    "print('Before num2 is updated:')\n",
    "print('num1:', num1)\n",
    "print('num2:', num2)\n",
    "\n",
    "print('\\nnum1 points to:', id(num1))\n",
    "print('num2 points to:', id(num2))\n",
    "\n",
    "num2 = 22\n",
    "print('\\nAfter num2 is updated:')\n",
    "print('num1:', num1)\n",
    "print('num2:', num2)\n",
    "\n",
    "print('\\nnum1 points to:', id(num1))\n",
    "print('num2 points to:', id(num2))\n",
    "```\n",
    "\n",
    "- `num1` and `num2` both point to the same integer object at first.\n",
    "- When you change `num2`, it points to a new integer, but `num1` stays the same.\n",
    "- Integers are **immutable**, so changing one variable does not affect the other.\n",
    "\n",
    "---\n",
    "\n",
    "### Example 2: Mutable Objects (Dictionaries)\n",
    "\n",
    "```python\n",
    "dict1 = {'value': 11}\n",
    "dict2 = dict1\n",
    "\n",
    "dict2['value'] = 22\n",
    "\n",
    "print('Before value is updated:')\n",
    "print('dict1:', dict1)\n",
    "print('dict2:', dict2)\n",
    "\n",
    "print('\\ndict1 points to:', id(dict1))\n",
    "print('dict2 points to:', id(dict2))\n",
    "\n",
    "dict2['value'] = 33\n",
    "\n",
    "print('\\nAfter value is updated:')\n",
    "print('dict1:', dict1)\n",
    "print('dict2:', dict2)\n",
    "\n",
    "print('\\ndict1 points to:', id(dict1))\n",
    "print('dict2 points to:', id(dict2))\n",
    "\n",
    "dict3 = {'value': 44}\n",
    "dict2 = dict3\n",
    "```\n",
    "\n",
    "- `dict1` and `dict2` both point to the same dictionary object.\n",
    "- Changing the dictionary through `dict2` also changes it for `dict1`.\n",
    "- Dictionaries are **mutable**, so changes affect all variables referencing the same object.\n",
    "- When you assign `dict2 = dict3`, `dict2` now points to a new dictionary, but `dict1` still points to the old one.\n",
    "\n",
    "---\n",
    "\n",
    "**Summary:**  \n",
    "- In Python, variables store references to objects in memory.\n",
    "- For immutable objects (like integers), changing one variable does not affect the other.\n",
    "- For mutable objects (like dictionaries), changes through one variable affect all variables pointing to the same object."
   ]
  },
  {
   "cell_type": "markdown",
   "id": "a942e576",
   "metadata": {},
   "source": []
  }
 ],
 "metadata": {
  "kernelspec": {
   "display_name": "Python 3",
   "language": "python",
   "name": "python3"
  },
  "language_info": {
   "codemirror_mode": {
    "name": "ipython",
    "version": 3
   },
   "file_extension": ".py",
   "mimetype": "text/x-python",
   "name": "python",
   "nbconvert_exporter": "python",
   "pygments_lexer": "ipython3",
   "version": "3.11.8"
  }
 },
 "nbformat": 4,
 "nbformat_minor": 5
}
