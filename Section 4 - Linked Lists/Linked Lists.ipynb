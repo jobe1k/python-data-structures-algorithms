{
 "cells": [
  {
   "cell_type": "markdown",
   "id": "01b34e7c",
   "metadata": {},
   "source": [
    "<span style=\"font-size: 44px; color: green; font-weight: bold;\">16 - Linked List: Intro</span>"
   ]
  },
  {
   "cell_type": "markdown",
   "id": "140caf59",
   "metadata": {},
   "source": [
    "### Linked Lists in Python: Key Facts\n",
    "\n",
    "- **No Indexes:**  \n",
    "  Unlike regular Python lists (arrays), you cannot access a linked list element directly by index (like `my_list[2]`).  \n",
    "  To get to a specific node, you must start at the head and follow the `next` pointers one by one until you reach the node you want.\n",
    "\n",
    "- **Nodes Spread in Memory:**  \n",
    "  In a Python list, all elements are stored together in a block of memory.  \n",
    "  In a linked list, each node can be anywhere in memory. Each node stores its value and a reference (pointer) to the next node.\n",
    "\n",
    "- **Head and Tail:**  \n",
    "  The `head` points to the first node in the list.  \n",
    "  The `tail` points to the last node.  \n",
    "  The last node’s `next` pointer is set to `None` to show the end of the list.\n",
    "\n",
    "---\n",
    "\n",
    "#### Example: Simple Linked List Node in Python\n",
    "\n",
    "```python\n",
    "class Node:\n",
    "    def __init__(self, value):\n",
    "        self.value = value\n",
    "        self.next = None  # Points to the next node\n",
    "\n",
    "# Creating nodes\n",
    "node1 = Node(10)\n",
    "node2 = Node(20)\n",
    "node3 = Node(30)\n",
    "\n",
    "# Linking nodes\n",
    "node1.next = node2\n",
    "node2.next = node3\n",
    "\n",
    "# node1 is the head, node3 is the tail\n",
    "```\n",
    "\n",
    "- To go through the list, start at the head and follow the `next` pointers.\n",
    "- This structure makes inserting and deleting nodes at the beginning easy and fast.\n",
    "- Finding a specific value or index is slower than with regular lists because you must walk through the nodes one by one.\n",
    "\n",
    "---\n",
    "\n",
    "**Summary:**  \n",
    "A linked list is a chain of nodes, each pointing to the next.  \n",
    "You cannot jump to an index; you must follow the links from the head to find what you need.  \n",
    "This makes some operations fast (like adding/removing at the start) and others slow (like searching or"
   ]
  },
  {
   "cell_type": "markdown",
   "id": "b24069bd",
   "metadata": {},
   "source": [
    "<span style=\"font-size: 44px; color: green; font-weight: bold;\">17 - Linked List: Big O</span>"
   ]
  },
  {
   "cell_type": "markdown",
   "id": "2565ee07",
   "metadata": {},
   "source": [
    "### Linked List Big O Summary and Explanation\n",
    "\n",
    "A **linked list** is a data structure made of nodes, where each node contains a value and a pointer (reference) to the next node. The list keeps track of the **head** (the first node) and often the **tail** (the last node).\n",
    "\n",
    "#### Key Points:\n",
    "- **Head:** Points to the first node in the list.\n",
    "- **Tail:** Points to the last node in the list.\n",
    "- **Pointers:** Each node has a `next` pointer that links to the next node in the chain.\n",
    "\n",
    "#### Big O for Common Linked List Operations\n",
    "\n",
    "| Operation                          | Big O   | Explanation                                                                 |\n",
    "|-------------------------------------|---------|-----------------------------------------------------------------------------|\n",
    "| Append new node to end of list      | O(1)    | If you keep a tail pointer, you can add to the end instantly.               |\n",
    "| Remove node at the end              | O(n)    | You must start at the head and walk through the list to find the previous node. |\n",
    "| Add item to beginning               | O(1)    | Just update the new node's next pointer and move the head pointer.          |\n",
    "| Remove item at the beginning        | O(1)    | Move the head pointer to the next node.                                     |\n",
    "| Add item to middle of list          | O(n)    | You must walk through the list to the right spot before inserting.          |\n",
    "| Remove item from middle of list     | O(n)    | You must walk through the list to find the node before the one to remove.   |\n",
    "| Lookup value or index               | O(n)    | You must start at the head and follow pointers one by one.                  |\n",
    "\n",
    "#### Why?\n",
    "\n",
    "- **Pointers** connect each node, so you must follow them from the head to reach any node.\n",
    "- **Head** and **tail** pointers make adding/removing at the start or end faster.\n",
    "- There are **no indexes** like in Python lists, so you can't jump directly to a node.\n",
    "\n",
    "**Summary:**  \n",
    "Linked lists are great for fast inserts/removes at the beginning (using the head pointer), but slow for searching or accessing by index because you must follow pointers from the head each time. Keeping a tail pointer helps make appending fast, but removing from the end still requires walking through the"
   ]
  },
  {
   "cell_type": "markdown",
   "id": "28c2501e",
   "metadata": {},
   "source": [
    "<span style=\"font-size: 44px; color: green; font-weight: bold;\">18 - Linked List: Under the Hood</span>"
   ]
  },
  {
   "cell_type": "markdown",
   "id": "c180c207",
   "metadata": {},
   "source": [
    "### What is Happening Under the Hood in a Linked List (Python)\n",
    "\n",
    "When you work with a linked list in Python, here’s what’s really happening:\n",
    "\n",
    "- **Node Structure:**  \n",
    "  Each node is a small container that holds a value and a pointer (reference) to the next node.  \n",
    "  You can represent a node as a dictionary: `{'value': x, 'next': None}` or as a class with `value` and `next` attributes.\n",
    "\n",
    "- **Connecting Nodes:**  \n",
    "  To build the list, you set the `next` pointer of one node to reference the next node in the chain.\n",
    "\n",
    "**Example using Python dictionaries:**\n",
    "```python\n",
    "# Create nodes\n",
    "node1 = {'value': 10, 'next': None}\n",
    "node2 = {'value': 20, 'next': None}\n",
    "node3 = {'value': 30, 'next': None}\n",
    "\n",
    "# Link nodes together\n",
    "node1['next'] = node2\n",
    "node2['next'] = node3\n",
    "# node3['next'] stays None (end of list)\n",
    "\n",
    "# node1 is the head, node3 is the tail\n",
    "```\n",
    "\n",
    "- **Appending a Node:**  \n",
    "  To add a node at the end, set the `next` of the current tail to the new node, then update the tail reference.\n",
    "\n",
    "- **Removing a Node:**  \n",
    "  To remove a node, find the node before it (by following `next` pointers from the head), then set its `next` to skip the node you want to remove.\n",
    "\n",
    "- **Head and Tail:**  \n",
    "  The `head` is a reference to the first node.  \n",
    "  The `tail` is a reference to the last node (whose `next` is `None`).\n",
    "\n",
    "**Summary:**  \n",
    "- Each node points to the next node using the `next` reference.\n",
    "- The list is a chain of nodes connected by pointers.\n",
    "- All operations (like append or remove) work by updating these pointers.\n",
    "- You must follow the chain from the head to find or change nodes in the"
   ]
  },
  {
   "cell_type": "markdown",
   "id": "bd3cc525",
   "metadata": {},
   "source": []
  }
 ],
 "metadata": {
  "language_info": {
   "name": "python"
  }
 },
 "nbformat": 4,
 "nbformat_minor": 5
}
